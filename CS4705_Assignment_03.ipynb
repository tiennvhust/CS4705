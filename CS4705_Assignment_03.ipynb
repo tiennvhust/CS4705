{
 "cells": [
  {
   "cell_type": "code",
   "execution_count": 35,
   "id": "8e07604c",
   "metadata": {
    "id": "4ece6d38-d93c-49e1-bd09-5f303a7c45e8",
    "outputId": "a410a6da-4809-42bf-d8c5-67b617bc7311"
   },
   "outputs": [
    {
     "name": "stdout",
     "output_type": "stream",
     "text": [
      "Requirement already satisfied: tabulate in /user/phd/VannguyenT/.conda/envs/myenv/lib/python3.10/site-packages (0.9.0)\n",
      "x_train shape: (60000, 28, 28) y_train shape: (60000,)\n"
     ]
    }
   ],
   "source": [
    "!pip install -q -U tensorflow>=1.8.0\n",
    "!pip install tabulate\n",
    "import tensorflow as tf\n",
    "\n",
    "import numpy as np\n",
    "import matplotlib.pyplot as plt\n",
    "import time\n",
    "from keras.callbacks import ModelCheckpoint\n",
    "from tabulate import tabulate\n",
    "\n",
    "# Load the fashion-mnist pre-shuffled train data and test data\n",
    "(x_train, y_train), (x_test, y_test) = tf.keras.datasets.fashion_mnist.load_data()\n",
    "\n",
    "print(\"x_train shape:\", x_train.shape, \"y_train shape:\", y_train.shape)"
   ]
  },
  {
   "cell_type": "markdown",
   "id": "9426176b",
   "metadata": {
    "id": "0015b181-a556-420e-9e58-a51635d073ee"
   },
   "source": [
    "## Visualize the data"
   ]
  },
  {
   "cell_type": "code",
   "execution_count": 36,
   "id": "1c14e3e3",
   "metadata": {
    "id": "02eddff3-e9ec-4a8e-b4fd-6204131efadc",
    "outputId": "cf12d045-bd89-4350-c47c-d43c1a79aacf"
   },
   "outputs": [
    {
     "name": "stdout",
     "output_type": "stream",
     "text": [
      "x_train shape: (60000, 28, 28) y_train shape: (60000,)\n",
      "60000 train set\n",
      "10000 test set\n",
      "y = 2 Pullover\n"
     ]
    },
    {
     "data": {
      "text/plain": [
       "<matplotlib.image.AxesImage at 0x7f254c3cfe80>"
      ]
     },
     "execution_count": 36,
     "metadata": {},
     "output_type": "execute_result"
    },
    {
     "data": {
      "image/png": "[encoded data removed]",
      "text/plain": [
       "<Figure size 432x288 with 1 Axes>"
      ]
     },
     "metadata": {},
     "output_type": "display_data"
    }
   ],
   "source": [
    "# Print training set shape - note there are 60,000 training data of image size of 28x28, 60,000 train labels)\n",
    "print(\"x_train shape:\", x_train.shape, \"y_train shape:\", y_train.shape)\n",
    "\n",
    "# Print the number of training and test datasets\n",
    "print(x_train.shape[0], 'train set')\n",
    "print(x_test.shape[0], 'test set')\n",
    "\n",
    "# Define the text labels\n",
    "fashion_mnist_labels = [\"T-shirt/top\",  # index 0\n",
    "                        \"Trouser\",      # index 1\n",
    "                        \"Pullover\",     # index 2 \n",
    "                        \"Dress\",        # index 3 \n",
    "                        \"Coat\",         # index 4\n",
    "                        \"Sandal\",       # index 5\n",
    "                        \"Shirt\",        # index 6 \n",
    "                        \"Sneaker\",      # index 7 \n",
    "                        \"Bag\",          # index 8 \n",
    "                        \"Ankle boot\"]   # index 9\n",
    "\n",
    "# Image index, you can pick any number between 0 and 59,999\n",
    "img_index = 5\n",
    "# y_train contains the lables, ranging from 0 to 9\n",
    "label_index = y_train[img_index]\n",
    "# Print the label, for example 2 Pullover\n",
    "print (\"y = \" + str(label_index) + \" \" +(fashion_mnist_labels[label_index]))\n",
    "# # Show one of the images from the training dataset\n",
    "plt.imshow(x_train[img_index])"
   ]
  },
  {
   "cell_type": "markdown",
   "id": "6d20bb1c",
   "metadata": {
    "id": "f119461a-5951-4db5-91f7-c23a97fbdde3"
   },
   "source": [
    "## Data normalization"
   ]
  },
  {
   "cell_type": "code",
   "execution_count": 37,
   "id": "5811165d",
   "metadata": {
    "id": "31f35ac8-1c78-4b03-aa47-e5a9075138cc",
    "outputId": "49caeb1c-5e99-4aad-e68e-fbfdd1587a9a"
   },
   "outputs": [
    {
     "name": "stdout",
     "output_type": "stream",
     "text": [
      "Number of train data - 60000\n",
      "Number of test data - 10000\n"
     ]
    }
   ],
   "source": [
    "x_train = x_train.astype('float32') / 255\n",
    "x_test = x_test.astype('float32') / 255\n",
    "print(\"Number of train data - \" + str(len(x_train)))\n",
    "print(\"Number of test data - \" + str(len(x_test)))"
   ]
  },
  {
   "cell_type": "markdown",
   "id": "88914a04",
   "metadata": {
    "id": "53becc6b-05cb-4a0c-8e1e-f09bf591ebb8"
   },
   "source": [
    "## Split the data into train/validation/test data sets"
   ]
  },
  {
   "cell_type": "code",
   "execution_count": 38,
   "id": "d17d8288",
   "metadata": {
    "id": "f9294a70-77d4-4526-9976-fa4bbb250b3f",
    "outputId": "bbc982cf-a15f-42f4-cf96-f53457fa2629"
   },
   "outputs": [
    {
     "name": "stdout",
     "output_type": "stream",
     "text": [
      "x_train shape: (55000, 28, 28, 1) y_train shape: (55000, 10)\n",
      "55000 train set\n",
      "5000 validation set\n",
      "10000 test set\n"
     ]
    }
   ],
   "source": [
    "# Further break training data into train / validation sets (# put 5000 into validation set and keep remaining 55,000 for train)\n",
    "(x_train, x_valid) = x_train[5000:], x_train[:5000] \n",
    "(y_train, y_valid) = y_train[5000:], y_train[:5000]\n",
    "\n",
    "# Reshape input data from (28, 28) to (28, 28, 1)\n",
    "w, h = 28, 28\n",
    "x_train = x_train.reshape(x_train.shape[0], w, h, 1)\n",
    "x_valid = x_valid.reshape(x_valid.shape[0], w, h, 1)\n",
    "x_test = x_test.reshape(x_test.shape[0], w, h, 1)\n",
    "\n",
    "# One-hot encode the labels\n",
    "y_train = tf.keras.utils.to_categorical(y_train, 10)\n",
    "y_valid = tf.keras.utils.to_categorical(y_valid, 10)\n",
    "y_test = tf.keras.utils.to_categorical(y_test, 10)\n",
    "\n",
    "# Print training set shape\n",
    "print(\"x_train shape:\", x_train.shape, \"y_train shape:\", y_train.shape)\n",
    "\n",
    "# Print the number of training, validation, and test datasets\n",
    "print(x_train.shape[0], 'train set')\n",
    "print(x_valid.shape[0], 'validation set')\n",
    "print(x_test.shape[0], 'test set')"
   ]
  },
  {
   "cell_type": "markdown",
   "id": "f9e0a785",
   "metadata": {
    "id": "67edd86a-8390-4835-a569-3e3eec6f31e7"
   },
   "source": [
    "## Architecture Comparision"
   ]
  },
  {
   "cell_type": "markdown",
   "id": "ccf55312",
   "metadata": {
    "id": "cd4db536-719e-4048-814d-cf7f4ad7859b"
   },
   "source": [
    "### Different combination of number of filters"
   ]
  },
  {
   "cell_type": "markdown",
   "id": "33ebc3f8",
   "metadata": {
    "id": "5c042542-5aa7-4f7e-b311-6a4ddfa78752"
   },
   "source": [
    "Model 1 [(32,2),(16,2), (0.3,0.3)] - Half number of filters in each layers"
   ]
  },
  {
   "cell_type": "code",
   "execution_count": 39,
   "id": "903e3c77",
   "metadata": {
    "id": "3310771b-e526-47e0-b17e-fa8689bda947"
   },
   "outputs": [],
   "source": [
    "model_01 = tf.keras.Sequential()\n",
    "\n",
    "# Must define the input shape in the first layer of the neural network\n",
    "model_01.add(tf.keras.layers.Conv2D(filters=32, kernel_size=2, padding='same', activation='relu', input_shape=(28,28,1))) \n",
    "model_01.add(tf.keras.layers.MaxPooling2D(pool_size=2))\n",
    "model_01.add(tf.keras.layers.Dropout(0.3))\n",
    "\n",
    "model_01.add(tf.keras.layers.Conv2D(filters=16, kernel_size=2, padding='same', activation='relu'))\n",
    "model_01.add(tf.keras.layers.MaxPooling2D(pool_size=2))\n",
    "model_01.add(tf.keras.layers.Dropout(0.3))\n",
    "\n",
    "model_01.add(tf.keras.layers.Flatten())\n",
    "model_01.add(tf.keras.layers.Dense(256, activation='relu'))\n",
    "model_01.add(tf.keras.layers.Dropout(0.5))\n",
    "model_01.add(tf.keras.layers.Dense(10, activation='softmax'))"
   ]
  },
  {
   "cell_type": "markdown",
   "id": "c6e67718",
   "metadata": {
    "id": "21b9affc-998c-4c3f-a5e3-5d83d5cf8ec0"
   },
   "source": [
    "Model 2 [(64,2),(128,2), (0.3,0.3)] - Double number of filters in each layers"
   ]
  },
  {
   "cell_type": "code",
   "execution_count": 40,
   "id": "ff1dea53",
   "metadata": {
    "id": "29074ec7-62d5-4296-8683-6bf71e44bfe8"
   },
   "outputs": [],
   "source": [
    "model_02 = tf.keras.Sequential()\n",
    "\n",
    "# Must define the input shape in the first layer of the neural network\n",
    "model_02.add(tf.keras.layers.Conv2D(filters=64, kernel_size=2, padding='same', activation='relu', input_shape=(28,28,1))) \n",
    "model_02.add(tf.keras.layers.MaxPooling2D(pool_size=2))\n",
    "model_02.add(tf.keras.layers.Dropout(0.3))\n",
    "\n",
    "model_02.add(tf.keras.layers.Conv2D(filters=128, kernel_size=2, padding='same', activation='relu'))\n",
    "model_02.add(tf.keras.layers.MaxPooling2D(pool_size=2))\n",
    "model_02.add(tf.keras.layers.Dropout(0.3))\n",
    "\n",
    "model_02.add(tf.keras.layers.Flatten())\n",
    "model_02.add(tf.keras.layers.Dense(256, activation='relu'))\n",
    "model_02.add(tf.keras.layers.Dropout(0.5))\n",
    "model_02.add(tf.keras.layers.Dense(10, activation='softmax'))"
   ]
  },
  {
   "cell_type": "markdown",
   "id": "4edaf802",
   "metadata": {
    "id": "8168a87b-0feb-4584-83a8-2349ced02064"
   },
   "source": [
    "### Different combinations of kernels"
   ]
  },
  {
   "cell_type": "markdown",
   "id": "b96675c4",
   "metadata": {
    "id": "c97aa9d5-cc95-43c4-b82b-d0d087f2a0dd"
   },
   "source": [
    "Model 3 [(64,4),(32,4), (0.3,0.3)] - Bigger kernel size"
   ]
  },
  {
   "cell_type": "code",
   "execution_count": 41,
   "id": "a377216a",
   "metadata": {
    "id": "28943cfb-ecda-4cca-accf-149ca4cdf418"
   },
   "outputs": [],
   "source": [
    "model_03 = tf.keras.Sequential()\n",
    "\n",
    "# Must define the input shape in the first layer of the neural network\n",
    "model_03.add(tf.keras.layers.Conv2D(filters=64, kernel_size=4, padding='same', activation='relu', input_shape=(28,28,1))) \n",
    "model_03.add(tf.keras.layers.MaxPooling2D(pool_size=4))\n",
    "model_03.add(tf.keras.layers.Dropout(0.3))\n",
    "\n",
    "model_03.add(tf.keras.layers.Conv2D(filters=32, kernel_size=4, padding='same', activation='relu'))\n",
    "model_03.add(tf.keras.layers.MaxPooling2D(pool_size=4))\n",
    "model_03.add(tf.keras.layers.Dropout(0.3))\n",
    "\n",
    "model_03.add(tf.keras.layers.Flatten())\n",
    "model_03.add(tf.keras.layers.Dense(256, activation='relu'))\n",
    "model_03.add(tf.keras.layers.Dropout(0.5))\n",
    "model_03.add(tf.keras.layers.Dense(10, activation='softmax'))"
   ]
  },
  {
   "cell_type": "markdown",
   "id": "b23f0617",
   "metadata": {
    "id": "2487f5c9-5f18-4f64-a206-5241f80e9a0e"
   },
   "source": [
    "Model 4 [(64,3),(32,6), (0.3,0.3)] - Different kernel sizes"
   ]
  },
  {
   "cell_type": "code",
   "execution_count": 42,
   "id": "93410adc",
   "metadata": {
    "id": "ca817f3f-4a33-4a3e-857e-368946cb3975"
   },
   "outputs": [],
   "source": [
    "model_04 = tf.keras.Sequential()\n",
    "\n",
    "# Must define the input shape in the first layer of the neural network\n",
    "model_04.add(tf.keras.layers.Conv2D(filters=64, kernel_size=3, padding='same', activation='relu', input_shape=(28,28,1)))\n",
    "model_04.add(tf.keras.layers.MaxPooling2D(pool_size=2))\n",
    "model_04.add(tf.keras.layers.Dropout(0.3))\n",
    "\n",
    "model_04.add(tf.keras.layers.Conv2D(filters=32, kernel_size=6, padding='same', activation='relu'))\n",
    "model_04.add(tf.keras.layers.MaxPooling2D(pool_size=4))\n",
    "model_04.add(tf.keras.layers.Dropout(0.3))\n",
    "\n",
    "model_04.add(tf.keras.layers.Flatten())\n",
    "model_04.add(tf.keras.layers.Dense(256, activation='relu'))\n",
    "model_04.add(tf.keras.layers.Dropout(0.5))\n",
    "model_04.add(tf.keras.layers.Dense(10, activation='softmax'))"
   ]
  },
  {
   "cell_type": "markdown",
   "id": "237caf91",
   "metadata": {
    "id": "743e40f9-dc63-4625-92d6-06c562ab1e16"
   },
   "source": [
    "### Different dropout probability"
   ]
  },
  {
   "cell_type": "markdown",
   "id": "3d88a9ff",
   "metadata": {
    "id": "56a211c4-46c4-415d-8bf4-e247a1d9e8ba"
   },
   "source": [
    "Model 5 [(64,2),(32,2), (0.2,0.2)] - Smaller dropout probability"
   ]
  },
  {
   "cell_type": "code",
   "execution_count": 43,
   "id": "8e356967",
   "metadata": {
    "id": "50684d6d-a23a-411c-a13f-e7d5bf2b6af8"
   },
   "outputs": [],
   "source": [
    "model_05 = tf.keras.Sequential()\n",
    "\n",
    "# Must define the input shape in the first layer of the neural network\n",
    "model_05.add(tf.keras.layers.Conv2D(filters=64, kernel_size=2, padding='same', activation='relu', input_shape=(28,28,1)))\n",
    "model_05.add(tf.keras.layers.MaxPooling2D(pool_size=2))\n",
    "model_05.add(tf.keras.layers.Dropout(0.2))\n",
    "\n",
    "model_05.add(tf.keras.layers.Conv2D(filters=32, kernel_size=2, padding='same', activation='relu'))\n",
    "model_05.add(tf.keras.layers.MaxPooling2D(pool_size=3))\n",
    "model_05.add(tf.keras.layers.Dropout(0.2))\n",
    "\n",
    "model_05.add(tf.keras.layers.Flatten())\n",
    "model_05.add(tf.keras.layers.Dense(256, activation='relu'))\n",
    "model_05.add(tf.keras.layers.Dropout(0.5))\n",
    "model_05.add(tf.keras.layers.Dense(10, activation='softmax'))"
   ]
  },
  {
   "cell_type": "markdown",
   "id": "f7f89b9d",
   "metadata": {
    "id": "f5e29aae-5e0e-4e52-aeb0-a5e8c0fb03bf"
   },
   "source": [
    "Model 6 [(64,2),(32,2), (0.4,0.4)] - Bigger dropout probability"
   ]
  },
  {
   "cell_type": "code",
   "execution_count": 44,
   "id": "749c909c",
   "metadata": {
    "id": "c75887fd-7f6a-469e-84b2-2ea03ded6f54"
   },
   "outputs": [],
   "source": [
    "model_06 = tf.keras.Sequential()\n",
    "\n",
    "# Must define the input shape in the first layer of the neural network\n",
    "model_06.add(tf.keras.layers.Conv2D(filters=64, kernel_size=2, padding='same', activation='relu', input_shape=(28,28,1)))\n",
    "model_06.add(tf.keras.layers.MaxPooling2D(pool_size=2))\n",
    "model_06.add(tf.keras.layers.Dropout(0.4))\n",
    "\n",
    "model_06.add(tf.keras.layers.Conv2D(filters=32, kernel_size=2, padding='same', activation='relu'))\n",
    "model_06.add(tf.keras.layers.MaxPooling2D(pool_size=2))\n",
    "model_06.add(tf.keras.layers.Dropout(0.4))\n",
    "\n",
    "model_06.add(tf.keras.layers.Flatten())\n",
    "model_06.add(tf.keras.layers.Dense(256, activation='relu'))\n",
    "model_06.add(tf.keras.layers.Dropout(0.5))\n",
    "model_06.add(tf.keras.layers.Dense(10, activation='softmax'))"
   ]
  },
  {
   "cell_type": "markdown",
   "id": "b805f213",
   "metadata": {
    "id": "e2775d38-a7ab-445c-b1c3-4604c44b3c38"
   },
   "source": [
    "### Architecture with more layers"
   ]
  },
  {
   "cell_type": "markdown",
   "id": "dbbcc9d2",
   "metadata": {
    "id": "99c26e67-b43e-4086-b9aa-a3d8dcc23381"
   },
   "source": [
    "Model 7 [(64,2),(32,2), (16,2),(0.3,0.3,0.2)] - Add one more layer"
   ]
  },
  {
   "cell_type": "code",
   "execution_count": 45,
   "id": "82fca0f2",
   "metadata": {
    "id": "a4f2733a-6aee-4ed8-aab2-f2631f2b16f3"
   },
   "outputs": [],
   "source": [
    "model_07 = tf.keras.Sequential()\n",
    "\n",
    "# Must define the input shape in the first layer of the neural network\n",
    "model_07.add(tf.keras.layers.Conv2D(filters=64, kernel_size=2, padding='same', activation='relu', input_shape=(28,28,1)))\n",
    "model_07.add(tf.keras.layers.MaxPooling2D(pool_size=2))\n",
    "model_07.add(tf.keras.layers.Dropout(0.3))\n",
    "\n",
    "model_07.add(tf.keras.layers.Conv2D(filters=32, kernel_size=2, padding='same', activation='relu'))\n",
    "model_07.add(tf.keras.layers.MaxPooling2D(pool_size=2))\n",
    "model_07.add(tf.keras.layers.Dropout(0.3))\n",
    "\n",
    "model_07.add(tf.keras.layers.Conv2D(filters=16, kernel_size=2, padding='same', activation='relu'))\n",
    "model_07.add(tf.keras.layers.MaxPooling2D(pool_size=2))\n",
    "model_07.add(tf.keras.layers.Dropout(0.2))\n",
    "\n",
    "model_07.add(tf.keras.layers.Flatten())\n",
    "model_07.add(tf.keras.layers.Dense(256, activation='relu'))\n",
    "model_07.add(tf.keras.layers.Dropout(0.6))\n",
    "model_07.add(tf.keras.layers.Dense(10, activation='softmax'))"
   ]
  },
  {
   "cell_type": "markdown",
   "id": "ca39feb6",
   "metadata": {
    "id": "2d09e5be-f873-4f01-bd75-48c14954bcaa"
   },
   "source": [
    "### Architectures combined changes"
   ]
  },
  {
   "cell_type": "markdown",
   "id": "0ad15818",
   "metadata": {
    "id": "4150852b-0c6a-481a-95e9-9c487da8f42b"
   },
   "source": [
    "Model 8 [(32,2),(16,2),(16,2), (0.3,0.3,0.3)] - Half number of filters and one addition layer"
   ]
  },
  {
   "cell_type": "code",
   "execution_count": 46,
   "id": "fcdb175a",
   "metadata": {
    "id": "6a96719f-6b9a-478b-8675-762db9cfcbc7"
   },
   "outputs": [],
   "source": [
    "model_08 = tf.keras.Sequential()\n",
    "\n",
    "# Must define the input shape in the first layer of the neural network\n",
    "model_08.add(tf.keras.layers.Conv2D(filters=32, kernel_size=2, padding='same', activation='relu', input_shape=(28,28,1)))\n",
    "model_08.add(tf.keras.layers.MaxPooling2D(pool_size=2))\n",
    "model_08.add(tf.keras.layers.Dropout(0.3))\n",
    "\n",
    "model_08.add(tf.keras.layers.Conv2D(filters=16, kernel_size=2, padding='same', activation='relu'))\n",
    "model_08.add(tf.keras.layers.MaxPooling2D(pool_size=2))\n",
    "model_08.add(tf.keras.layers.Dropout(0.3))\n",
    "\n",
    "model_08.add(tf.keras.layers.Conv2D(filters=16, kernel_size=2, padding='same', activation='relu'))\n",
    "model_08.add(tf.keras.layers.MaxPooling2D(pool_size=2))\n",
    "model_08.add(tf.keras.layers.Dropout(0.3))\n",
    "\n",
    "model_08.add(tf.keras.layers.Flatten())\n",
    "model_08.add(tf.keras.layers.Dense(256, activation='relu'))\n",
    "model_08.add(tf.keras.layers.Dropout(0.5))\n",
    "model_08.add(tf.keras.layers.Dense(10, activation='softmax'))"
   ]
  },
  {
   "cell_type": "markdown",
   "id": "cf92e6cd",
   "metadata": {
    "id": "007cd268-b084-48b5-9e7c-6106ec26ac37"
   },
   "source": [
    "Model 9 [(128,2),(64,2), (0.2,0.2)] - Double number of filters and reduced dropout percentage"
   ]
  },
  {
   "cell_type": "code",
   "execution_count": 47,
   "id": "eefe31d4",
   "metadata": {
    "id": "216bd860-ce5d-430d-ac5c-1f9a5dd6eb73"
   },
   "outputs": [],
   "source": [
    "model_09 = tf.keras.Sequential()\n",
    "\n",
    "# Must define the input shape in the first layer of the neural network\n",
    "model_09.add(tf.keras.layers.Conv2D(filters=128, kernel_size=2, padding='same', activation='relu', input_shape=(28,28,1)))\n",
    "model_09.add(tf.keras.layers.MaxPooling2D(pool_size=2))\n",
    "model_09.add(tf.keras.layers.Dropout(0.2))\n",
    "\n",
    "model_09.add(tf.keras.layers.Conv2D(filters=64, kernel_size=2, padding='same', activation='relu'))\n",
    "model_09.add(tf.keras.layers.MaxPooling2D(pool_size=2))\n",
    "model_09.add(tf.keras.layers.Dropout(0.2))\n",
    "\n",
    "model_09.add(tf.keras.layers.Flatten())\n",
    "model_09.add(tf.keras.layers.Dense(256, activation='relu'))\n",
    "model_09.add(tf.keras.layers.Dropout(0.5))\n",
    "model_09.add(tf.keras.layers.Dense(10, activation='softmax'))"
   ]
  },
  {
   "cell_type": "markdown",
   "id": "d4fd1148",
   "metadata": {
    "id": "77b749d7-b8cd-44c5-8c96-3eb694668b49"
   },
   "source": [
    "Model 10 [(32,4),(16,4), (0.3,0.3)] - Half number of filters and double the size of kernels"
   ]
  },
  {
   "cell_type": "code",
   "execution_count": 48,
   "id": "4e0a6c7d",
   "metadata": {
    "id": "ff7b5427-7cc6-4bfe-83d5-ad19ba5dc1e0"
   },
   "outputs": [],
   "source": [
    "model_10 = tf.keras.Sequential()\n",
    "\n",
    "# Must define the input shape in the first layer of the neural network\n",
    "model_10.add(tf.keras.layers.Conv2D(filters=32, kernel_size=4, padding='same', activation='relu', input_shape=(28,28,1)))\n",
    "model_10.add(tf.keras.layers.MaxPooling2D(pool_size=2))\n",
    "model_10.add(tf.keras.layers.Dropout(0.3))\n",
    "\n",
    "model_10.add(tf.keras.layers.Conv2D(filters=16, kernel_size=4, padding='same', activation='relu'))\n",
    "model_10.add(tf.keras.layers.MaxPooling2D(pool_size=2))\n",
    "model_10.add(tf.keras.layers.Dropout(0.3))\n",
    "\n",
    "model_10.add(tf.keras.layers.Flatten())\n",
    "model_10.add(tf.keras.layers.Dense(256, activation='relu'))\n",
    "model_10.add(tf.keras.layers.Dropout(0.5))\n",
    "model_10.add(tf.keras.layers.Dense(10, activation='softmax'))"
   ]
  },
  {
   "cell_type": "markdown",
   "id": "6860e570",
   "metadata": {
    "id": "db3d1303-b5e3-4cfe-b06b-8e638e244684"
   },
   "source": [
    "## Compile the models"
   ]
  },
  {
   "cell_type": "code",
   "execution_count": 49,
   "id": "bfe44524",
   "metadata": {
    "id": "74acad5e-cb2d-40e4-9131-de8c2db8add2"
   },
   "outputs": [],
   "source": [
    "model_01.compile(loss='categorical_crossentropy',\n",
    "             optimizer='adam',\n",
    "             metrics=['accuracy'])\n",
    "checkpointer_01 = ModelCheckpoint(filepath='model_01.weights.best.hdf5', verbose = 1, save_best_only=True)"
   ]
  },
  {
   "cell_type": "code",
   "execution_count": 50,
   "id": "35274f1b",
   "metadata": {},
   "outputs": [],
   "source": [
    "model_02.compile(loss='categorical_crossentropy',\n",
    "             optimizer='adam',\n",
    "             metrics=['accuracy'])\n",
    "checkpointer_02 = ModelCheckpoint(filepath='model_02.weights.best.hdf5', verbose = 1, save_best_only=True)"
   ]
  },
  {
   "cell_type": "code",
   "execution_count": 51,
   "id": "b18b0faf",
   "metadata": {},
   "outputs": [],
   "source": [
    "model_03.compile(loss='categorical_crossentropy',\n",
    "             optimizer='adam',\n",
    "             metrics=['accuracy'])\n",
    "checkpointer_03 = ModelCheckpoint(filepath='model_03.weights.best.hdf5', verbose = 1, save_best_only=True)"
   ]
  },
  {
   "cell_type": "code",
   "execution_count": 52,
   "id": "c40cb0bc",
   "metadata": {},
   "outputs": [],
   "source": [
    "model_04.compile(loss='categorical_crossentropy',\n",
    "             optimizer='adam',\n",
    "             metrics=['accuracy'])\n",
    "checkpointer_04 = ModelCheckpoint(filepath='model_04.weights.best.hdf5', verbose = 1, save_best_only=True)"
   ]
  },
  {
   "cell_type": "code",
   "execution_count": 53,
   "id": "9ec326e0",
   "metadata": {},
   "outputs": [],
   "source": [
    "model_05.compile(loss='categorical_crossentropy',\n",
    "             optimizer='adam',\n",
    "             metrics=['accuracy'])\n",
    "checkpointer_05 = ModelCheckpoint(filepath='model_05.weights.best.hdf5', verbose = 1, save_best_only=True)"
   ]
  },
  {
   "cell_type": "code",
   "execution_count": 54,
   "id": "cf7b1e20",
   "metadata": {},
   "outputs": [],
   "source": [
    "model_06.compile(loss='categorical_crossentropy',\n",
    "             optimizer='adam',\n",
    "             metrics=['accuracy'])\n",
    "checkpointer_06 = ModelCheckpoint(filepath='model_06.weights.best.hdf5', verbose = 1, save_best_only=True)"
   ]
  },
  {
   "cell_type": "code",
   "execution_count": 55,
   "id": "1c474fe6",
   "metadata": {},
   "outputs": [],
   "source": [
    "model_07.compile(loss='categorical_crossentropy',\n",
    "             optimizer='adam',\n",
    "             metrics=['accuracy'])\n",
    "checkpointer_07 = ModelCheckpoint(filepath='model_07.weights.best.hdf5', verbose = 1, save_best_only=True)"
   ]
  },
  {
   "cell_type": "code",
   "execution_count": 56,
   "id": "85d882d8",
   "metadata": {},
   "outputs": [],
   "source": [
    "model_08.compile(loss='categorical_crossentropy',\n",
    "             optimizer='adam',\n",
    "             metrics=['accuracy'])\n",
    "checkpointer_08 = ModelCheckpoint(filepath='model_08.weights.best.hdf5', verbose = 1, save_best_only=True)"
   ]
  },
  {
   "cell_type": "code",
   "execution_count": 57,
   "id": "a6545ef9",
   "metadata": {},
   "outputs": [],
   "source": [
    "model_09.compile(loss='categorical_crossentropy',\n",
    "             optimizer='adam',\n",
    "             metrics=['accuracy'])\n",
    "checkpointer_09 = ModelCheckpoint(filepath='model_09.weights.best.hdf5', verbose = 1, save_best_only=True)"
   ]
  },
  {
   "cell_type": "code",
   "execution_count": 58,
   "id": "eb8f77a6",
   "metadata": {},
   "outputs": [],
   "source": [
    "model_10.compile(loss='categorical_crossentropy',\n",
    "             optimizer='adam',\n",
    "             metrics=['accuracy'])\n",
    "checkpointer_10 = ModelCheckpoint(filepath='model_10.weights.best.hdf5', verbose = 1, save_best_only=True)"
   ]
  },
  {
   "cell_type": "markdown",
   "id": "f49b8b62",
   "metadata": {
    "id": "2213908d-8575-40a1-83f8-a711cea5508f"
   },
   "source": [
    "## Train the models"
   ]
  },
  {
   "cell_type": "markdown",
   "id": "d1d52ef9",
   "metadata": {},
   "source": [
    "Set batch size to be 128 and train for 10 epochs"
   ]
  },
  {
   "cell_type": "code",
   "execution_count": 59,
   "id": "0c02dc09",
   "metadata": {},
   "outputs": [],
   "source": [
    "BATCHSIZE = 128\n",
    "EPOCH = 10"
   ]
  },
  {
   "cell_type": "code",
   "execution_count": 60,
   "id": "10dd5bc6",
   "metadata": {
    "id": "643a0b2d-2380-41c4-acb1-aaa33e263407",
    "outputId": "0f58da73-4154-42a1-ead3-64214685e4a8"
   },
   "outputs": [
    {
     "name": "stdout",
     "output_type": "stream",
     "text": [
      "Epoch 1/10\n",
      "430/430 [==============================] - ETA: 0s - loss: 0.7563 - accuracy: 0.7173\n",
      "Epoch 1: val_loss improved from inf to 0.45427, saving model to model_01.weights.best.hdf5\n",
      "430/430 [==============================] - 9s 19ms/step - loss: 0.7563 - accuracy: 0.7173 - val_loss: 0.4543 - val_accuracy: 0.8402\n",
      "Epoch 2/10\n",
      "428/430 [============================>.] - ETA: 0s - loss: 0.4966 - accuracy: 0.8154\n",
      "Epoch 2: val_loss improved from 0.45427 to 0.38172, saving model to model_01.weights.best.hdf5\n",
      "430/430 [==============================] - 8s 18ms/step - loss: 0.4964 - accuracy: 0.8154 - val_loss: 0.3817 - val_accuracy: 0.8658\n",
      "Epoch 3/10\n",
      "428/430 [============================>.] - ETA: 0s - loss: 0.4402 - accuracy: 0.8384\n",
      "Epoch 3: val_loss improved from 0.38172 to 0.35788, saving model to model_01.weights.best.hdf5\n",
      "430/430 [==============================] - 8s 18ms/step - loss: 0.4404 - accuracy: 0.8384 - val_loss: 0.3579 - val_accuracy: 0.8704\n",
      "Epoch 4/10\n",
      "430/430 [==============================] - ETA: 0s - loss: 0.4151 - accuracy: 0.8470\n",
      "Epoch 4: val_loss improved from 0.35788 to 0.32899, saving model to model_01.weights.best.hdf5\n",
      "430/430 [==============================] - 8s 18ms/step - loss: 0.4151 - accuracy: 0.8470 - val_loss: 0.3290 - val_accuracy: 0.8832\n",
      "Epoch 5/10\n",
      "428/430 [============================>.] - ETA: 0s - loss: 0.3899 - accuracy: 0.8570\n",
      "Epoch 5: val_loss improved from 0.32899 to 0.31152, saving model to model_01.weights.best.hdf5\n",
      "430/430 [==============================] - 8s 18ms/step - loss: 0.3900 - accuracy: 0.8570 - val_loss: 0.3115 - val_accuracy: 0.8856\n",
      "Epoch 6/10\n",
      "430/430 [==============================] - ETA: 0s - loss: 0.3709 - accuracy: 0.8636\n",
      "Epoch 6: val_loss improved from 0.31152 to 0.29324, saving model to model_01.weights.best.hdf5\n",
      "430/430 [==============================] - 8s 19ms/step - loss: 0.3709 - accuracy: 0.8636 - val_loss: 0.2932 - val_accuracy: 0.8954\n",
      "Epoch 7/10\n",
      "430/430 [==============================] - ETA: 0s - loss: 0.3570 - accuracy: 0.8683\n",
      "Epoch 7: val_loss improved from 0.29324 to 0.28700, saving model to model_01.weights.best.hdf5\n",
      "430/430 [==============================] - 8s 18ms/step - loss: 0.3570 - accuracy: 0.8683 - val_loss: 0.2870 - val_accuracy: 0.8930\n",
      "Epoch 8/10\n",
      "428/430 [============================>.] - ETA: 0s - loss: 0.3452 - accuracy: 0.8732\n",
      "Epoch 8: val_loss improved from 0.28700 to 0.27868, saving model to model_01.weights.best.hdf5\n",
      "430/430 [==============================] - 8s 18ms/step - loss: 0.3455 - accuracy: 0.8731 - val_loss: 0.2787 - val_accuracy: 0.8968\n",
      "Epoch 9/10\n",
      "430/430 [==============================] - ETA: 0s - loss: 0.3416 - accuracy: 0.8738\n",
      "Epoch 9: val_loss improved from 0.27868 to 0.27082, saving model to model_01.weights.best.hdf5\n",
      "430/430 [==============================] - 8s 18ms/step - loss: 0.3416 - accuracy: 0.8738 - val_loss: 0.2708 - val_accuracy: 0.8988\n",
      "Epoch 10/10\n",
      "428/430 [============================>.] - ETA: 0s - loss: 0.3341 - accuracy: 0.8772\n",
      "Epoch 10: val_loss did not improve from 0.27082\n",
      "430/430 [==============================] - 8s 18ms/step - loss: 0.3343 - accuracy: 0.8771 - val_loss: 0.2813 - val_accuracy: 0.8960\n"
     ]
    }
   ],
   "source": [
    "# Mark start time\n",
    "start = time.time()\n",
    "model_01.fit(x_train,\n",
    "         y_train,\n",
    "         batch_size=BATCHSIZE,\n",
    "         epochs=EPOCH,\n",
    "         validation_data=(x_valid, y_valid),\n",
    "         callbacks=[checkpointer_01])\n",
    "# Calculate training time\n",
    "time_01 = time.time() - start"
   ]
  },
  {
   "cell_type": "code",
   "execution_count": 61,
   "id": "f1a367fe",
   "metadata": {
    "id": "a80ae5a5-db64-423a-9580-0b49b3707d61",
    "outputId": "fe83467f-e3cb-4716-9095-45c3ab66e56a"
   },
   "outputs": [
    {
     "name": "stdout",
     "output_type": "stream",
     "text": [
      "Epoch 1/10\n",
      "429/430 [============================>.] - ETA: 0s - loss: 0.5829 - accuracy: 0.7855\n",
      "Epoch 1: val_loss improved from inf to 0.36570, saving model to model_02.weights.best.hdf5\n",
      "430/430 [==============================] - 15s 34ms/step - loss: 0.5826 - accuracy: 0.7856 - val_loss: 0.3657 - val_accuracy: 0.8686\n",
      "Epoch 2/10\n",
      "429/430 [============================>.] - ETA: 0s - loss: 0.3872 - accuracy: 0.8600\n",
      "Epoch 2: val_loss improved from 0.36570 to 0.30944, saving model to model_02.weights.best.hdf5\n",
      "430/430 [==============================] - 14s 33ms/step - loss: 0.3872 - accuracy: 0.8600 - val_loss: 0.3094 - val_accuracy: 0.8896\n",
      "Epoch 3/10\n",
      "430/430 [==============================] - ETA: 0s - loss: 0.3388 - accuracy: 0.8764\n",
      "Epoch 3: val_loss improved from 0.30944 to 0.27597, saving model to model_02.weights.best.hdf5\n",
      "430/430 [==============================] - 14s 33ms/step - loss: 0.3388 - accuracy: 0.8764 - val_loss: 0.2760 - val_accuracy: 0.9006\n",
      "Epoch 4/10\n",
      "429/430 [============================>.] - ETA: 0s - loss: 0.3153 - accuracy: 0.8849\n",
      "Epoch 4: val_loss improved from 0.27597 to 0.25821, saving model to model_02.weights.best.hdf5\n",
      "430/430 [==============================] - 14s 33ms/step - loss: 0.3151 - accuracy: 0.8851 - val_loss: 0.2582 - val_accuracy: 0.9070\n",
      "Epoch 5/10\n",
      "429/430 [============================>.] - ETA: 0s - loss: 0.2891 - accuracy: 0.8947\n",
      "Epoch 5: val_loss improved from 0.25821 to 0.24556, saving model to model_02.weights.best.hdf5\n",
      "430/430 [==============================] - 14s 33ms/step - loss: 0.2892 - accuracy: 0.8947 - val_loss: 0.2456 - val_accuracy: 0.9124\n",
      "Epoch 6/10\n",
      "429/430 [============================>.] - ETA: 0s - loss: 0.2734 - accuracy: 0.9004\n",
      "Epoch 6: val_loss improved from 0.24556 to 0.23299, saving model to model_02.weights.best.hdf5\n",
      "430/430 [==============================] - 14s 32ms/step - loss: 0.2735 - accuracy: 0.9004 - val_loss: 0.2330 - val_accuracy: 0.9150\n",
      "Epoch 7/10\n",
      "429/430 [============================>.] - ETA: 0s - loss: 0.2616 - accuracy: 0.9027\n",
      "Epoch 7: val_loss improved from 0.23299 to 0.22886, saving model to model_02.weights.best.hdf5\n",
      "430/430 [==============================] - 14s 33ms/step - loss: 0.2616 - accuracy: 0.9027 - val_loss: 0.2289 - val_accuracy: 0.9144\n",
      "Epoch 8/10\n",
      "429/430 [============================>.] - ETA: 0s - loss: 0.2483 - accuracy: 0.9084\n",
      "Epoch 8: val_loss improved from 0.22886 to 0.21793, saving model to model_02.weights.best.hdf5\n",
      "430/430 [==============================] - 14s 33ms/step - loss: 0.2483 - accuracy: 0.9084 - val_loss: 0.2179 - val_accuracy: 0.9222\n",
      "Epoch 9/10\n",
      "429/430 [============================>.] - ETA: 0s - loss: 0.2402 - accuracy: 0.9124\n",
      "Epoch 9: val_loss improved from 0.21793 to 0.21426, saving model to model_02.weights.best.hdf5\n",
      "430/430 [==============================] - 14s 33ms/step - loss: 0.2402 - accuracy: 0.9124 - val_loss: 0.2143 - val_accuracy: 0.9220\n",
      "Epoch 10/10\n",
      "429/430 [============================>.] - ETA: 0s - loss: 0.2280 - accuracy: 0.9160\n",
      "Epoch 10: val_loss improved from 0.21426 to 0.20944, saving model to model_02.weights.best.hdf5\n",
      "430/430 [==============================] - 14s 32ms/step - loss: 0.2279 - accuracy: 0.9161 - val_loss: 0.2094 - val_accuracy: 0.9224\n"
     ]
    }
   ],
   "source": [
    "# Mark start time\n",
    "start = time.time()\n",
    "model_02.fit(x_train,\n",
    "         y_train,\n",
    "         batch_size=BATCHSIZE,\n",
    "         epochs=EPOCH,\n",
    "         validation_data=(x_valid, y_valid),\n",
    "         callbacks=[checkpointer_02])\n",
    "# Calculate training time\n",
    "time_02 = time.time() - start"
   ]
  },
  {
   "cell_type": "code",
   "execution_count": 62,
   "id": "f049d8f9",
   "metadata": {
    "id": "e244a24f-95d0-4aec-a447-ad9b76d4fad5",
    "outputId": "e0cfc70a-cc73-458e-9415-f1b77d7801fa"
   },
   "outputs": [
    {
     "name": "stdout",
     "output_type": "stream",
     "text": [
      "Epoch 1/10\n",
      "430/430 [==============================] - ETA: 0s - loss: 1.0231 - accuracy: 0.6124\n",
      "Epoch 1: val_loss improved from inf to 0.53888, saving model to model_03.weights.best.hdf5\n",
      "430/430 [==============================] - 9s 20ms/step - loss: 1.0231 - accuracy: 0.6124 - val_loss: 0.5389 - val_accuracy: 0.8022\n",
      "Epoch 2/10\n",
      "430/430 [==============================] - ETA: 0s - loss: 0.6454 - accuracy: 0.7600\n",
      "Epoch 2: val_loss improved from 0.53888 to 0.45162, saving model to model_03.weights.best.hdf5\n",
      "430/430 [==============================] - 8s 20ms/step - loss: 0.6454 - accuracy: 0.7600 - val_loss: 0.4516 - val_accuracy: 0.8356\n",
      "Epoch 3/10\n",
      "430/430 [==============================] - ETA: 0s - loss: 0.5694 - accuracy: 0.7904\n",
      "Epoch 3: val_loss improved from 0.45162 to 0.40809, saving model to model_03.weights.best.hdf5\n",
      "430/430 [==============================] - 8s 20ms/step - loss: 0.5694 - accuracy: 0.7904 - val_loss: 0.4081 - val_accuracy: 0.8514\n",
      "Epoch 4/10\n",
      "430/430 [==============================] - ETA: 0s - loss: 0.5287 - accuracy: 0.8078\n",
      "Epoch 4: val_loss improved from 0.40809 to 0.37628, saving model to model_03.weights.best.hdf5\n",
      "430/430 [==============================] - 9s 20ms/step - loss: 0.5287 - accuracy: 0.8078 - val_loss: 0.3763 - val_accuracy: 0.8654\n",
      "Epoch 5/10\n",
      "430/430 [==============================] - ETA: 0s - loss: 0.5055 - accuracy: 0.8153\n",
      "Epoch 5: val_loss improved from 0.37628 to 0.36036, saving model to model_03.weights.best.hdf5\n",
      "430/430 [==============================] - 8s 20ms/step - loss: 0.5055 - accuracy: 0.8153 - val_loss: 0.3604 - val_accuracy: 0.8666\n",
      "Epoch 6/10\n",
      "430/430 [==============================] - ETA: 0s - loss: 0.4836 - accuracy: 0.8234\n",
      "Epoch 6: val_loss improved from 0.36036 to 0.35265, saving model to model_03.weights.best.hdf5\n",
      "430/430 [==============================] - 8s 20ms/step - loss: 0.4836 - accuracy: 0.8234 - val_loss: 0.3526 - val_accuracy: 0.8664\n",
      "Epoch 7/10\n",
      "430/430 [==============================] - ETA: 0s - loss: 0.4707 - accuracy: 0.8305\n",
      "Epoch 7: val_loss improved from 0.35265 to 0.34201, saving model to model_03.weights.best.hdf5\n",
      "430/430 [==============================] - 8s 20ms/step - loss: 0.4707 - accuracy: 0.8305 - val_loss: 0.3420 - val_accuracy: 0.8784\n",
      "Epoch 8/10\n",
      "430/430 [==============================] - ETA: 0s - loss: 0.4571 - accuracy: 0.8342\n",
      "Epoch 8: val_loss improved from 0.34201 to 0.33644, saving model to model_03.weights.best.hdf5\n",
      "430/430 [==============================] - 8s 20ms/step - loss: 0.4571 - accuracy: 0.8342 - val_loss: 0.3364 - val_accuracy: 0.8804\n",
      "Epoch 9/10\n",
      "430/430 [==============================] - ETA: 0s - loss: 0.4467 - accuracy: 0.8357\n",
      "Epoch 9: val_loss did not improve from 0.33644\n",
      "430/430 [==============================] - 8s 19ms/step - loss: 0.4467 - accuracy: 0.8357 - val_loss: 0.3365 - val_accuracy: 0.8800\n",
      "Epoch 10/10\n",
      "429/430 [============================>.] - ETA: 0s - loss: 0.4386 - accuracy: 0.8400\n",
      "Epoch 10: val_loss improved from 0.33644 to 0.32150, saving model to model_03.weights.best.hdf5\n",
      "430/430 [==============================] - 9s 20ms/step - loss: 0.4385 - accuracy: 0.8400 - val_loss: 0.3215 - val_accuracy: 0.8844\n"
     ]
    }
   ],
   "source": [
    "# Mark start time\n",
    "start = time.time()\n",
    "model_03.fit(x_train,\n",
    "         y_train,\n",
    "         batch_size=BATCHSIZE,\n",
    "         epochs=EPOCH,\n",
    "         validation_data=(x_valid, y_valid),\n",
    "         callbacks=[checkpointer_03])\n",
    "# Calculate training time\n",
    "time_03 = time.time() - start"
   ]
  },
  {
   "cell_type": "code",
   "execution_count": 63,
   "id": "d74ccc53",
   "metadata": {
    "id": "8da2d30f-90bc-465d-9280-92624118a488",
    "outputId": "f18b0f17-927b-41f5-b60c-7e15d5437f63"
   },
   "outputs": [
    {
     "name": "stdout",
     "output_type": "stream",
     "text": [
      "Epoch 1/10\n",
      "429/430 [============================>.] - ETA: 0s - loss: 0.7307 - accuracy: 0.7331\n",
      "Epoch 1: val_loss improved from inf to 0.39578, saving model to model_04.weights.best.hdf5\n",
      "430/430 [==============================] - 14s 31ms/step - loss: 0.7304 - accuracy: 0.7331 - val_loss: 0.3958 - val_accuracy: 0.8572\n",
      "Epoch 2/10\n",
      "429/430 [============================>.] - ETA: 0s - loss: 0.4420 - accuracy: 0.8404\n",
      "Epoch 2: val_loss improved from 0.39578 to 0.33194, saving model to model_04.weights.best.hdf5\n",
      "430/430 [==============================] - 13s 30ms/step - loss: 0.4419 - accuracy: 0.8405 - val_loss: 0.3319 - val_accuracy: 0.8838\n",
      "Epoch 3/10\n",
      "429/430 [============================>.] - ETA: 0s - loss: 0.3821 - accuracy: 0.8612\n",
      "Epoch 3: val_loss improved from 0.33194 to 0.29388, saving model to model_04.weights.best.hdf5\n",
      "430/430 [==============================] - 13s 30ms/step - loss: 0.3819 - accuracy: 0.8613 - val_loss: 0.2939 - val_accuracy: 0.8902\n",
      "Epoch 4/10\n",
      "429/430 [============================>.] - ETA: 0s - loss: 0.3541 - accuracy: 0.8710\n",
      "Epoch 4: val_loss improved from 0.29388 to 0.27281, saving model to model_04.weights.best.hdf5\n",
      "430/430 [==============================] - 13s 30ms/step - loss: 0.3540 - accuracy: 0.8709 - val_loss: 0.2728 - val_accuracy: 0.9032\n",
      "Epoch 5/10\n",
      "429/430 [============================>.] - ETA: 0s - loss: 0.3335 - accuracy: 0.8775\n",
      "Epoch 5: val_loss did not improve from 0.27281\n",
      "430/430 [==============================] - 13s 30ms/step - loss: 0.3336 - accuracy: 0.8775 - val_loss: 0.2746 - val_accuracy: 0.8990\n",
      "Epoch 6/10\n",
      "429/430 [============================>.] - ETA: 0s - loss: 0.3215 - accuracy: 0.8816\n",
      "Epoch 6: val_loss improved from 0.27281 to 0.25205, saving model to model_04.weights.best.hdf5\n",
      "430/430 [==============================] - 13s 30ms/step - loss: 0.3214 - accuracy: 0.8816 - val_loss: 0.2521 - val_accuracy: 0.9074\n",
      "Epoch 7/10\n",
      "429/430 [============================>.] - ETA: 0s - loss: 0.3082 - accuracy: 0.8875\n",
      "Epoch 7: val_loss did not improve from 0.25205\n",
      "430/430 [==============================] - 13s 30ms/step - loss: 0.3081 - accuracy: 0.8875 - val_loss: 0.2557 - val_accuracy: 0.9078\n",
      "Epoch 8/10\n",
      "429/430 [============================>.] - ETA: 0s - loss: 0.3006 - accuracy: 0.8903\n",
      "Epoch 8: val_loss improved from 0.25205 to 0.24516, saving model to model_04.weights.best.hdf5\n",
      "430/430 [==============================] - 13s 30ms/step - loss: 0.3007 - accuracy: 0.8903 - val_loss: 0.2452 - val_accuracy: 0.9092\n",
      "Epoch 9/10\n",
      "429/430 [============================>.] - ETA: 0s - loss: 0.2939 - accuracy: 0.8910\n",
      "Epoch 9: val_loss improved from 0.24516 to 0.23455, saving model to model_04.weights.best.hdf5\n",
      "430/430 [==============================] - 13s 30ms/step - loss: 0.2940 - accuracy: 0.8909 - val_loss: 0.2346 - val_accuracy: 0.9160\n",
      "Epoch 10/10\n",
      "429/430 [============================>.] - ETA: 0s - loss: 0.2838 - accuracy: 0.8949\n",
      "Epoch 10: val_loss improved from 0.23455 to 0.23251, saving model to model_04.weights.best.hdf5\n",
      "430/430 [==============================] - 13s 31ms/step - loss: 0.2837 - accuracy: 0.8950 - val_loss: 0.2325 - val_accuracy: 0.9122\n"
     ]
    }
   ],
   "source": [
    "# Mark start time\n",
    "start = time.time()\n",
    "model_04.fit(x_train,\n",
    "         y_train,\n",
    "         batch_size=BATCHSIZE,\n",
    "         epochs=EPOCH,\n",
    "         validation_data=(x_valid, y_valid),\n",
    "         callbacks=[checkpointer_04])\n",
    "# Calculate training time\n",
    "time_04 = time.time() - start"
   ]
  },
  {
   "cell_type": "code",
   "execution_count": 64,
   "id": "abdbcfac",
   "metadata": {
    "id": "2967ae01-e5d9-44ae-8b00-2c1a60240081",
    "outputId": "9d29baf1-4a0e-4e89-ed37-beac24bb2a56"
   },
   "outputs": [
    {
     "name": "stdout",
     "output_type": "stream",
     "text": [
      "Epoch 1/10\n",
      "430/430 [==============================] - ETA: 0s - loss: 0.7798 - accuracy: 0.7150\n",
      "Epoch 1: val_loss improved from inf to 0.44906, saving model to model_05.weights.best.hdf5\n",
      "430/430 [==============================] - 12s 26ms/step - loss: 0.7798 - accuracy: 0.7150 - val_loss: 0.4491 - val_accuracy: 0.8434\n",
      "Epoch 2/10\n",
      "430/430 [==============================] - ETA: 0s - loss: 0.4956 - accuracy: 0.8167\n",
      "Epoch 2: val_loss improved from 0.44906 to 0.38239, saving model to model_05.weights.best.hdf5\n",
      "430/430 [==============================] - 10s 24ms/step - loss: 0.4956 - accuracy: 0.8167 - val_loss: 0.3824 - val_accuracy: 0.8630\n",
      "Epoch 3/10\n",
      "428/430 [============================>.] - ETA: 0s - loss: 0.4394 - accuracy: 0.8382\n",
      "Epoch 3: val_loss improved from 0.38239 to 0.34596, saving model to model_05.weights.best.hdf5\n",
      "430/430 [==============================] - 10s 24ms/step - loss: 0.4397 - accuracy: 0.8381 - val_loss: 0.3460 - val_accuracy: 0.8728\n",
      "Epoch 4/10\n",
      "430/430 [==============================] - ETA: 0s - loss: 0.4087 - accuracy: 0.8489\n",
      "Epoch 4: val_loss improved from 0.34596 to 0.32310, saving model to model_05.weights.best.hdf5\n",
      "430/430 [==============================] - 10s 24ms/step - loss: 0.4087 - accuracy: 0.8489 - val_loss: 0.3231 - val_accuracy: 0.8832\n",
      "Epoch 5/10\n",
      "430/430 [==============================] - ETA: 0s - loss: 0.3844 - accuracy: 0.8582\n",
      "Epoch 5: val_loss improved from 0.32310 to 0.31384, saving model to model_05.weights.best.hdf5\n",
      "430/430 [==============================] - 10s 24ms/step - loss: 0.3844 - accuracy: 0.8582 - val_loss: 0.3138 - val_accuracy: 0.8812\n",
      "Epoch 6/10\n",
      "430/430 [==============================] - ETA: 0s - loss: 0.3649 - accuracy: 0.8672\n",
      "Epoch 6: val_loss improved from 0.31384 to 0.29141, saving model to model_05.weights.best.hdf5\n",
      "430/430 [==============================] - 10s 23ms/step - loss: 0.3649 - accuracy: 0.8672 - val_loss: 0.2914 - val_accuracy: 0.8916\n",
      "Epoch 7/10\n",
      "430/430 [==============================] - ETA: 0s - loss: 0.3476 - accuracy: 0.8705\n",
      "Epoch 7: val_loss improved from 0.29141 to 0.28137, saving model to model_05.weights.best.hdf5\n",
      "430/430 [==============================] - 10s 24ms/step - loss: 0.3476 - accuracy: 0.8705 - val_loss: 0.2814 - val_accuracy: 0.8978\n",
      "Epoch 8/10\n",
      "430/430 [==============================] - ETA: 0s - loss: 0.3357 - accuracy: 0.8769\n",
      "Epoch 8: val_loss improved from 0.28137 to 0.27060, saving model to model_05.weights.best.hdf5\n",
      "430/430 [==============================] - 10s 23ms/step - loss: 0.3357 - accuracy: 0.8769 - val_loss: 0.2706 - val_accuracy: 0.9020\n",
      "Epoch 9/10\n",
      "430/430 [==============================] - ETA: 0s - loss: 0.3256 - accuracy: 0.8803\n",
      "Epoch 9: val_loss improved from 0.27060 to 0.26900, saving model to model_05.weights.best.hdf5\n",
      "430/430 [==============================] - 10s 23ms/step - loss: 0.3256 - accuracy: 0.8803 - val_loss: 0.2690 - val_accuracy: 0.8998\n",
      "Epoch 10/10\n",
      "430/430 [==============================] - ETA: 0s - loss: 0.3180 - accuracy: 0.8831\n",
      "Epoch 10: val_loss improved from 0.26900 to 0.25415, saving model to model_05.weights.best.hdf5\n",
      "430/430 [==============================] - 10s 24ms/step - loss: 0.3180 - accuracy: 0.8831 - val_loss: 0.2542 - val_accuracy: 0.9070\n"
     ]
    }
   ],
   "source": [
    "# Mark start time\n",
    "start = time.time()\n",
    "model_05.fit(x_train,\n",
    "         y_train,\n",
    "         batch_size=BATCHSIZE,\n",
    "         epochs=EPOCH,\n",
    "         validation_data=(x_valid, y_valid),\n",
    "         callbacks=[checkpointer_05])\n",
    "# Calculate training time\n",
    "time_05 = time.time() - start"
   ]
  },
  {
   "cell_type": "code",
   "execution_count": 65,
   "id": "0c22a3bc",
   "metadata": {
    "id": "2ef554a4-4071-48e4-b6d8-e83d58aba372",
    "outputId": "510a40bd-ec73-4ef6-cae6-4ac8d069c4ae"
   },
   "outputs": [
    {
     "name": "stdout",
     "output_type": "stream",
     "text": [
      "Epoch 1/10\n",
      "430/430 [==============================] - ETA: 0s - loss: 0.6807 - accuracy: 0.7490\n",
      "Epoch 1: val_loss improved from inf to 0.41189, saving model to model_06.weights.best.hdf5\n",
      "430/430 [==============================] - 11s 24ms/step - loss: 0.6807 - accuracy: 0.7490 - val_loss: 0.4119 - val_accuracy: 0.8564\n",
      "Epoch 2/10\n",
      "429/430 [============================>.] - ETA: 0s - loss: 0.4616 - accuracy: 0.8315\n",
      "Epoch 2: val_loss improved from 0.41189 to 0.36206, saving model to model_06.weights.best.hdf5\n",
      "430/430 [==============================] - 10s 24ms/step - loss: 0.4615 - accuracy: 0.8316 - val_loss: 0.3621 - val_accuracy: 0.8686\n",
      "Epoch 3/10\n",
      "428/430 [============================>.] - ETA: 0s - loss: 0.4121 - accuracy: 0.8479\n",
      "Epoch 3: val_loss improved from 0.36206 to 0.31958, saving model to model_06.weights.best.hdf5\n",
      "430/430 [==============================] - 10s 24ms/step - loss: 0.4122 - accuracy: 0.8479 - val_loss: 0.3196 - val_accuracy: 0.8890\n",
      "Epoch 4/10\n",
      "428/430 [============================>.] - ETA: 0s - loss: 0.3768 - accuracy: 0.8621\n",
      "Epoch 4: val_loss improved from 0.31958 to 0.30463, saving model to model_06.weights.best.hdf5\n",
      "430/430 [==============================] - 10s 24ms/step - loss: 0.3770 - accuracy: 0.8620 - val_loss: 0.3046 - val_accuracy: 0.8920\n",
      "Epoch 5/10\n",
      "428/430 [============================>.] - ETA: 0s - loss: 0.3590 - accuracy: 0.8682\n",
      "Epoch 5: val_loss improved from 0.30463 to 0.28593, saving model to model_06.weights.best.hdf5\n",
      "430/430 [==============================] - 10s 24ms/step - loss: 0.3590 - accuracy: 0.8682 - val_loss: 0.2859 - val_accuracy: 0.9004\n",
      "Epoch 6/10\n",
      "429/430 [============================>.] - ETA: 0s - loss: 0.3404 - accuracy: 0.8744\n",
      "Epoch 6: val_loss improved from 0.28593 to 0.27431, saving model to model_06.weights.best.hdf5\n",
      "430/430 [==============================] - 10s 23ms/step - loss: 0.3405 - accuracy: 0.8744 - val_loss: 0.2743 - val_accuracy: 0.9024\n",
      "Epoch 7/10\n",
      "429/430 [============================>.] - ETA: 0s - loss: 0.3263 - accuracy: 0.8810\n",
      "Epoch 7: val_loss improved from 0.27431 to 0.26236, saving model to model_06.weights.best.hdf5\n",
      "430/430 [==============================] - 10s 24ms/step - loss: 0.3265 - accuracy: 0.8809 - val_loss: 0.2624 - val_accuracy: 0.9044\n",
      "Epoch 8/10\n",
      "429/430 [============================>.] - ETA: 0s - loss: 0.3201 - accuracy: 0.8817\n",
      "Epoch 8: val_loss improved from 0.26236 to 0.25101, saving model to model_06.weights.best.hdf5\n",
      "430/430 [==============================] - 10s 24ms/step - loss: 0.3202 - accuracy: 0.8817 - val_loss: 0.2510 - val_accuracy: 0.9076\n",
      "Epoch 9/10\n",
      "428/430 [============================>.] - ETA: 0s - loss: 0.3102 - accuracy: 0.8860\n",
      "Epoch 9: val_loss did not improve from 0.25101\n",
      "430/430 [==============================] - 10s 24ms/step - loss: 0.3100 - accuracy: 0.8861 - val_loss: 0.2581 - val_accuracy: 0.9064\n",
      "Epoch 10/10\n",
      "428/430 [============================>.] - ETA: 0s - loss: 0.3009 - accuracy: 0.8902\n",
      "Epoch 10: val_loss improved from 0.25101 to 0.24746, saving model to model_06.weights.best.hdf5\n",
      "430/430 [==============================] - 10s 24ms/step - loss: 0.3009 - accuracy: 0.8901 - val_loss: 0.2475 - val_accuracy: 0.9062\n"
     ]
    }
   ],
   "source": [
    "# Mark start time\n",
    "start = time.time()\n",
    "model_06.fit(x_train,\n",
    "         y_train,\n",
    "         batch_size=BATCHSIZE,\n",
    "         epochs=EPOCH,\n",
    "         validation_data=(x_valid, y_valid),\n",
    "         callbacks=[checkpointer_06])\n",
    "# Calculate training time\n",
    "time_06 = time.time() - start"
   ]
  },
  {
   "cell_type": "code",
   "execution_count": 66,
   "id": "b1e4e1c6",
   "metadata": {
    "id": "363b737f-f708-4492-8066-2b9a9ad2411e",
    "outputId": "bfd9523f-2c52-4885-cb29-de914e9bd4ca"
   },
   "outputs": [
    {
     "name": "stdout",
     "output_type": "stream",
     "text": [
      "Epoch 1/10\n",
      "429/430 [============================>.] - ETA: 0s - loss: 1.0520 - accuracy: 0.6031\n",
      "Epoch 1: val_loss improved from inf to 0.56412, saving model to model_07.weights.best.hdf5\n",
      "430/430 [==============================] - 12s 26ms/step - loss: 1.0515 - accuracy: 0.6033 - val_loss: 0.5641 - val_accuracy: 0.7864\n",
      "Epoch 2/10\n",
      "428/430 [============================>.] - ETA: 0s - loss: 0.6549 - accuracy: 0.7493\n",
      "Epoch 2: val_loss improved from 0.56412 to 0.47914, saving model to model_07.weights.best.hdf5\n",
      "430/430 [==============================] - 11s 26ms/step - loss: 0.6549 - accuracy: 0.7494 - val_loss: 0.4791 - val_accuracy: 0.8150\n",
      "Epoch 3/10\n",
      "429/430 [============================>.] - ETA: 0s - loss: 0.5783 - accuracy: 0.7805\n",
      "Epoch 3: val_loss improved from 0.47914 to 0.42796, saving model to model_07.weights.best.hdf5\n",
      "430/430 [==============================] - 11s 26ms/step - loss: 0.5781 - accuracy: 0.7805 - val_loss: 0.4280 - val_accuracy: 0.8420\n",
      "Epoch 4/10\n",
      "429/430 [============================>.] - ETA: 0s - loss: 0.5310 - accuracy: 0.8014\n",
      "Epoch 4: val_loss improved from 0.42796 to 0.39230, saving model to model_07.weights.best.hdf5\n",
      "430/430 [==============================] - 11s 26ms/step - loss: 0.5311 - accuracy: 0.8013 - val_loss: 0.3923 - val_accuracy: 0.8534\n",
      "Epoch 5/10\n",
      "429/430 [============================>.] - ETA: 0s - loss: 0.4960 - accuracy: 0.8152\n",
      "Epoch 5: val_loss improved from 0.39230 to 0.36070, saving model to model_07.weights.best.hdf5\n",
      "430/430 [==============================] - 11s 26ms/step - loss: 0.4961 - accuracy: 0.8152 - val_loss: 0.3607 - val_accuracy: 0.8720\n",
      "Epoch 6/10\n",
      "429/430 [============================>.] - ETA: 0s - loss: 0.4733 - accuracy: 0.8261\n",
      "Epoch 6: val_loss improved from 0.36070 to 0.33821, saving model to model_07.weights.best.hdf5\n",
      "430/430 [==============================] - 11s 26ms/step - loss: 0.4732 - accuracy: 0.8261 - val_loss: 0.3382 - val_accuracy: 0.8810\n",
      "Epoch 7/10\n",
      "430/430 [==============================] - ETA: 0s - loss: 0.4521 - accuracy: 0.8343\n",
      "Epoch 7: val_loss improved from 0.33821 to 0.32901, saving model to model_07.weights.best.hdf5\n",
      "430/430 [==============================] - 11s 26ms/step - loss: 0.4521 - accuracy: 0.8343 - val_loss: 0.3290 - val_accuracy: 0.8812\n",
      "Epoch 8/10\n",
      "429/430 [============================>.] - ETA: 0s - loss: 0.4321 - accuracy: 0.8427\n",
      "Epoch 8: val_loss improved from 0.32901 to 0.31333, saving model to model_07.weights.best.hdf5\n",
      "430/430 [==============================] - 11s 26ms/step - loss: 0.4319 - accuracy: 0.8427 - val_loss: 0.3133 - val_accuracy: 0.8856\n",
      "Epoch 9/10\n",
      "429/430 [============================>.] - ETA: 0s - loss: 0.4207 - accuracy: 0.8458\n",
      "Epoch 9: val_loss improved from 0.31333 to 0.30076, saving model to model_07.weights.best.hdf5\n",
      "430/430 [==============================] - 11s 26ms/step - loss: 0.4207 - accuracy: 0.8457 - val_loss: 0.3008 - val_accuracy: 0.8918\n",
      "Epoch 10/10\n",
      "428/430 [============================>.] - ETA: 0s - loss: 0.4085 - accuracy: 0.8508\n",
      "Epoch 10: val_loss improved from 0.30076 to 0.29577, saving model to model_07.weights.best.hdf5\n",
      "430/430 [==============================] - 11s 26ms/step - loss: 0.4086 - accuracy: 0.8507 - val_loss: 0.2958 - val_accuracy: 0.8900\n"
     ]
    }
   ],
   "source": [
    "# Mark start time\n",
    "start = time.time()\n",
    "model_07.fit(x_train,\n",
    "         y_train,\n",
    "         batch_size=BATCHSIZE,\n",
    "         epochs=EPOCH,\n",
    "         validation_data=(x_valid, y_valid),\n",
    "         callbacks=[checkpointer_07])\n",
    "# Calculate training time\n",
    "time_07 = time.time() - start"
   ]
  },
  {
   "cell_type": "code",
   "execution_count": 67,
   "id": "071f1d80",
   "metadata": {
    "id": "8feb2240-ddd6-48ba-aba9-55ee82ad39de",
    "outputId": "c653e044-392a-4a0b-e243-8139dcf9d1c1"
   },
   "outputs": [
    {
     "name": "stdout",
     "output_type": "stream",
     "text": [
      "Epoch 1/10\n",
      "430/430 [==============================] - ETA: 0s - loss: 1.0911 - accuracy: 0.5910\n",
      "Epoch 1: val_loss improved from inf to 0.63273, saving model to model_08.weights.best.hdf5\n",
      "430/430 [==============================] - 10s 21ms/step - loss: 1.0911 - accuracy: 0.5910 - val_loss: 0.6327 - val_accuracy: 0.7662\n",
      "Epoch 2/10\n",
      "430/430 [==============================] - ETA: 0s - loss: 0.7286 - accuracy: 0.7210\n",
      "Epoch 2: val_loss improved from 0.63273 to 0.55557, saving model to model_08.weights.best.hdf5\n",
      "430/430 [==============================] - 9s 20ms/step - loss: 0.7286 - accuracy: 0.7210 - val_loss: 0.5556 - val_accuracy: 0.7896\n",
      "Epoch 3/10\n",
      "430/430 [==============================] - ETA: 0s - loss: 0.6641 - accuracy: 0.7434\n",
      "Epoch 3: val_loss improved from 0.55557 to 0.52016, saving model to model_08.weights.best.hdf5\n",
      "430/430 [==============================] - 9s 20ms/step - loss: 0.6641 - accuracy: 0.7434 - val_loss: 0.5202 - val_accuracy: 0.8018\n",
      "Epoch 4/10\n",
      "430/430 [==============================] - ETA: 0s - loss: 0.6268 - accuracy: 0.7572\n",
      "Epoch 4: val_loss improved from 0.52016 to 0.48459, saving model to model_08.weights.best.hdf5\n",
      "430/430 [==============================] - 9s 20ms/step - loss: 0.6268 - accuracy: 0.7572 - val_loss: 0.4846 - val_accuracy: 0.8240\n",
      "Epoch 5/10\n",
      "430/430 [==============================] - ETA: 0s - loss: 0.5998 - accuracy: 0.7706\n",
      "Epoch 5: val_loss improved from 0.48459 to 0.45129, saving model to model_08.weights.best.hdf5\n",
      "430/430 [==============================] - 9s 20ms/step - loss: 0.5998 - accuracy: 0.7706 - val_loss: 0.4513 - val_accuracy: 0.8428\n",
      "Epoch 6/10\n",
      "430/430 [==============================] - ETA: 0s - loss: 0.5740 - accuracy: 0.7809\n",
      "Epoch 6: val_loss improved from 0.45129 to 0.42842, saving model to model_08.weights.best.hdf5\n",
      "430/430 [==============================] - 9s 20ms/step - loss: 0.5740 - accuracy: 0.7809 - val_loss: 0.4284 - val_accuracy: 0.8504\n",
      "Epoch 7/10\n",
      "430/430 [==============================] - ETA: 0s - loss: 0.5518 - accuracy: 0.7915\n",
      "Epoch 7: val_loss improved from 0.42842 to 0.41705, saving model to model_08.weights.best.hdf5\n",
      "430/430 [==============================] - 9s 20ms/step - loss: 0.5518 - accuracy: 0.7915 - val_loss: 0.4170 - val_accuracy: 0.8530\n",
      "Epoch 8/10\n",
      "430/430 [==============================] - ETA: 0s - loss: 0.5358 - accuracy: 0.7984\n",
      "Epoch 8: val_loss improved from 0.41705 to 0.40024, saving model to model_08.weights.best.hdf5\n",
      "430/430 [==============================] - 9s 20ms/step - loss: 0.5358 - accuracy: 0.7984 - val_loss: 0.4002 - val_accuracy: 0.8570\n",
      "Epoch 9/10\n",
      "430/430 [==============================] - ETA: 0s - loss: 0.5248 - accuracy: 0.8050\n",
      "Epoch 9: val_loss improved from 0.40024 to 0.38128, saving model to model_08.weights.best.hdf5\n",
      "430/430 [==============================] - 9s 20ms/step - loss: 0.5248 - accuracy: 0.8050 - val_loss: 0.3813 - val_accuracy: 0.8678\n",
      "Epoch 10/10\n",
      "430/430 [==============================] - ETA: 0s - loss: 0.5083 - accuracy: 0.8072\n",
      "Epoch 10: val_loss improved from 0.38128 to 0.37228, saving model to model_08.weights.best.hdf5\n",
      "430/430 [==============================] - 9s 20ms/step - loss: 0.5083 - accuracy: 0.8072 - val_loss: 0.3723 - val_accuracy: 0.8684\n"
     ]
    }
   ],
   "source": [
    "# Mark start time\n",
    "start = time.time()\n",
    "model_08.fit(x_train,\n",
    "         y_train,\n",
    "         batch_size=BATCHSIZE,\n",
    "         epochs=EPOCH,\n",
    "         validation_data=(x_valid, y_valid),\n",
    "         callbacks=[checkpointer_08])\n",
    "# Calculate training time\n",
    "time_08 = time.time() - start"
   ]
  },
  {
   "cell_type": "code",
   "execution_count": 68,
   "id": "4ebb173c",
   "metadata": {
    "id": "c33762ee-e638-47e3-9721-5f49229af994",
    "outputId": "322997fd-0b94-4220-f5bb-78ab9f409281"
   },
   "outputs": [
    {
     "name": "stdout",
     "output_type": "stream",
     "text": [
      "Epoch 1/10\n",
      "429/430 [============================>.] - ETA: 0s - loss: 0.5740 - accuracy: 0.7905\n",
      "Epoch 1: val_loss improved from inf to 0.34288, saving model to model_09.weights.best.hdf5\n",
      "430/430 [==============================] - 17s 38ms/step - loss: 0.5736 - accuracy: 0.7907 - val_loss: 0.3429 - val_accuracy: 0.8772\n",
      "Epoch 2/10\n",
      "429/430 [============================>.] - ETA: 0s - loss: 0.3750 - accuracy: 0.8633\n",
      "Epoch 2: val_loss improved from 0.34288 to 0.29603, saving model to model_09.weights.best.hdf5\n",
      "430/430 [==============================] - 16s 38ms/step - loss: 0.3749 - accuracy: 0.8633 - val_loss: 0.2960 - val_accuracy: 0.8916\n",
      "Epoch 3/10\n",
      "429/430 [============================>.] - ETA: 0s - loss: 0.3306 - accuracy: 0.8791\n",
      "Epoch 3: val_loss improved from 0.29603 to 0.27378, saving model to model_09.weights.best.hdf5\n",
      "430/430 [==============================] - 17s 38ms/step - loss: 0.3306 - accuracy: 0.8791 - val_loss: 0.2738 - val_accuracy: 0.9010\n",
      "Epoch 4/10\n",
      "429/430 [============================>.] - ETA: 0s - loss: 0.3064 - accuracy: 0.8885\n",
      "Epoch 4: val_loss improved from 0.27378 to 0.25213, saving model to model_09.weights.best.hdf5\n",
      "430/430 [==============================] - 16s 38ms/step - loss: 0.3065 - accuracy: 0.8884 - val_loss: 0.2521 - val_accuracy: 0.9086\n",
      "Epoch 5/10\n",
      "430/430 [==============================] - ETA: 0s - loss: 0.2861 - accuracy: 0.8954\n",
      "Epoch 5: val_loss improved from 0.25213 to 0.24672, saving model to model_09.weights.best.hdf5\n",
      "430/430 [==============================] - 16s 38ms/step - loss: 0.2861 - accuracy: 0.8954 - val_loss: 0.2467 - val_accuracy: 0.9076\n",
      "Epoch 6/10\n",
      "429/430 [============================>.] - ETA: 0s - loss: 0.2667 - accuracy: 0.9015\n",
      "Epoch 6: val_loss improved from 0.24672 to 0.23318, saving model to model_09.weights.best.hdf5\n",
      "430/430 [==============================] - 16s 38ms/step - loss: 0.2667 - accuracy: 0.9015 - val_loss: 0.2332 - val_accuracy: 0.9126\n",
      "Epoch 7/10\n",
      "430/430 [==============================] - ETA: 0s - loss: 0.2549 - accuracy: 0.9042\n",
      "Epoch 7: val_loss improved from 0.23318 to 0.22768, saving model to model_09.weights.best.hdf5\n",
      "430/430 [==============================] - 16s 38ms/step - loss: 0.2549 - accuracy: 0.9042 - val_loss: 0.2277 - val_accuracy: 0.9136\n",
      "Epoch 8/10\n",
      "429/430 [============================>.] - ETA: 0s - loss: 0.2431 - accuracy: 0.9107\n",
      "Epoch 8: val_loss improved from 0.22768 to 0.21923, saving model to model_09.weights.best.hdf5\n",
      "430/430 [==============================] - 16s 38ms/step - loss: 0.2432 - accuracy: 0.9107 - val_loss: 0.2192 - val_accuracy: 0.9158\n",
      "Epoch 9/10\n",
      "429/430 [============================>.] - ETA: 0s - loss: 0.2303 - accuracy: 0.9158\n",
      "Epoch 9: val_loss improved from 0.21923 to 0.21686, saving model to model_09.weights.best.hdf5\n",
      "430/430 [==============================] - 16s 38ms/step - loss: 0.2303 - accuracy: 0.9157 - val_loss: 0.2169 - val_accuracy: 0.9182\n",
      "Epoch 10/10\n",
      "430/430 [==============================] - ETA: 0s - loss: 0.2251 - accuracy: 0.9169\n",
      "Epoch 10: val_loss did not improve from 0.21686\n",
      "430/430 [==============================] - 14s 34ms/step - loss: 0.2251 - accuracy: 0.9169 - val_loss: 0.2171 - val_accuracy: 0.9208\n"
     ]
    }
   ],
   "source": [
    "# Mark start time\n",
    "start = time.time()\n",
    "model_09.fit(x_train,\n",
    "         y_train,\n",
    "         batch_size=BATCHSIZE,\n",
    "         epochs=EPOCH,\n",
    "         validation_data=(x_valid, y_valid),\n",
    "         callbacks=[checkpointer_09])\n",
    "# Calculate training time\n",
    "time_09 = time.time() - start"
   ]
  },
  {
   "cell_type": "code",
   "execution_count": 69,
   "id": "6a16f436",
   "metadata": {
    "id": "ab598fcd-9afd-479a-a164-c3066c33073f",
    "outputId": "8540766d-6ebe-4493-d058-406d8045b4e5"
   },
   "outputs": [
    {
     "name": "stdout",
     "output_type": "stream",
     "text": [
      "Epoch 1/10\n",
      "427/430 [============================>.] - ETA: 0s - loss: 0.7041 - accuracy: 0.7390\n",
      "Epoch 1: val_loss improved from inf to 0.41519, saving model to model_10.weights.best.hdf5\n",
      "430/430 [==============================] - 8s 17ms/step - loss: 0.7024 - accuracy: 0.7395 - val_loss: 0.4152 - val_accuracy: 0.8544\n",
      "Epoch 2/10\n",
      "429/430 [============================>.] - ETA: 0s - loss: 0.4565 - accuracy: 0.8342\n",
      "Epoch 2: val_loss improved from 0.41519 to 0.35620, saving model to model_10.weights.best.hdf5\n",
      "430/430 [==============================] - 7s 15ms/step - loss: 0.4564 - accuracy: 0.8343 - val_loss: 0.3562 - val_accuracy: 0.8778\n",
      "Epoch 3/10\n",
      "429/430 [============================>.] - ETA: 0s - loss: 0.3990 - accuracy: 0.8569\n",
      "Epoch 3: val_loss improved from 0.35620 to 0.31009, saving model to model_10.weights.best.hdf5\n",
      "430/430 [==============================] - 7s 16ms/step - loss: 0.3992 - accuracy: 0.8569 - val_loss: 0.3101 - val_accuracy: 0.8850\n",
      "Epoch 4/10\n",
      "429/430 [============================>.] - ETA: 0s - loss: 0.3680 - accuracy: 0.8652\n",
      "Epoch 4: val_loss improved from 0.31009 to 0.29614, saving model to model_10.weights.best.hdf5\n",
      "430/430 [==============================] - 7s 15ms/step - loss: 0.3679 - accuracy: 0.8653 - val_loss: 0.2961 - val_accuracy: 0.8926\n",
      "Epoch 5/10\n",
      "428/430 [============================>.] - ETA: 0s - loss: 0.3442 - accuracy: 0.8738\n",
      "Epoch 5: val_loss improved from 0.29614 to 0.27604, saving model to model_10.weights.best.hdf5\n",
      "430/430 [==============================] - 7s 16ms/step - loss: 0.3440 - accuracy: 0.8739 - val_loss: 0.2760 - val_accuracy: 0.8972\n",
      "Epoch 6/10\n",
      "428/430 [============================>.] - ETA: 0s - loss: 0.3283 - accuracy: 0.8800\n",
      "Epoch 6: val_loss improved from 0.27604 to 0.26807, saving model to model_10.weights.best.hdf5\n",
      "430/430 [==============================] - 8s 19ms/step - loss: 0.3282 - accuracy: 0.8799 - val_loss: 0.2681 - val_accuracy: 0.9008\n",
      "Epoch 7/10\n",
      "430/430 [==============================] - ETA: 0s - loss: 0.3164 - accuracy: 0.8837\n",
      "Epoch 7: val_loss did not improve from 0.26807\n",
      "430/430 [==============================] - 8s 19ms/step - loss: 0.3164 - accuracy: 0.8837 - val_loss: 0.2701 - val_accuracy: 0.9040\n",
      "Epoch 8/10\n",
      "428/430 [============================>.] - ETA: 0s - loss: 0.3051 - accuracy: 0.8871\n",
      "Epoch 8: val_loss improved from 0.26807 to 0.25604, saving model to model_10.weights.best.hdf5\n",
      "430/430 [==============================] - 8s 19ms/step - loss: 0.3050 - accuracy: 0.8872 - val_loss: 0.2560 - val_accuracy: 0.9038\n",
      "Epoch 9/10\n",
      "430/430 [==============================] - ETA: 0s - loss: 0.2950 - accuracy: 0.8912\n",
      "Epoch 9: val_loss improved from 0.25604 to 0.24346, saving model to model_10.weights.best.hdf5\n",
      "430/430 [==============================] - 8s 19ms/step - loss: 0.2950 - accuracy: 0.8912 - val_loss: 0.2435 - val_accuracy: 0.9100\n",
      "Epoch 10/10\n",
      "428/430 [============================>.] - ETA: 0s - loss: 0.2882 - accuracy: 0.8929\n",
      "Epoch 10: val_loss improved from 0.24346 to 0.23367, saving model to model_10.weights.best.hdf5\n",
      "430/430 [==============================] - 8s 19ms/step - loss: 0.2881 - accuracy: 0.8930 - val_loss: 0.2337 - val_accuracy: 0.9144\n"
     ]
    }
   ],
   "source": [
    "# Mark start time\n",
    "start = time.time()\n",
    "model_10.fit(x_train,\n",
    "         y_train,\n",
    "         batch_size=BATCHSIZE,\n",
    "         epochs=EPOCH,\n",
    "         validation_data=(x_valid, y_valid),\n",
    "         callbacks=[checkpointer_10])\n",
    "# Calculate training time\n",
    "time_10 = time.time() - start"
   ]
  },
  {
   "cell_type": "markdown",
   "id": "acf135c0",
   "metadata": {
    "id": "c006752e-2150-4cd9-9d2b-115cddc6ee8a"
   },
   "source": [
    "## Load models with the best validation accuracy"
   ]
  },
  {
   "cell_type": "code",
   "execution_count": 70,
   "id": "93cd9232",
   "metadata": {
    "id": "58649175-b7be-45ab-833a-471cbd3efeb9"
   },
   "outputs": [],
   "source": [
    "# Load the weights with the best validation accuracy\n",
    "model_01.load_weights('model_01.weights.best.hdf5')\n",
    "model_02.load_weights('model_02.weights.best.hdf5')\n",
    "model_03.load_weights('model_03.weights.best.hdf5')\n",
    "model_04.load_weights('model_04.weights.best.hdf5')\n",
    "model_05.load_weights('model_05.weights.best.hdf5')\n",
    "model_06.load_weights('model_06.weights.best.hdf5')\n",
    "model_07.load_weights('model_07.weights.best.hdf5')\n",
    "model_08.load_weights('model_08.weights.best.hdf5')\n",
    "model_09.load_weights('model_09.weights.best.hdf5')\n",
    "model_10.load_weights('model_10.weights.best.hdf5')"
   ]
  },
  {
   "cell_type": "markdown",
   "id": "cdc0c377",
   "metadata": {
    "id": "95c3db7c-c364-4036-9702-ce9946cd60e8"
   },
   "source": [
    "## **Results**\n",
    "Evaluate the models"
   ]
  },
  {
   "cell_type": "code",
   "execution_count": 71,
   "id": "7fe10636",
   "metadata": {
    "id": "ab071147-af63-4518-881d-e00a2c14a439"
   },
   "outputs": [],
   "source": [
    "# Evaluate the model on test set\n",
    "score_01 = model_01.evaluate(x_test, y_test, verbose=0)\n",
    "score_02 = model_02.evaluate(x_test, y_test, verbose=0)\n",
    "score_03 = model_03.evaluate(x_test, y_test, verbose=0)\n",
    "score_04 = model_04.evaluate(x_test, y_test, verbose=0)\n",
    "score_05 = model_05.evaluate(x_test, y_test, verbose=0)\n",
    "score_06 = model_06.evaluate(x_test, y_test, verbose=0)\n",
    "score_07 = model_07.evaluate(x_test, y_test, verbose=0)\n",
    "score_08 = model_08.evaluate(x_test, y_test, verbose=0)\n",
    "score_09 = model_09.evaluate(x_test, y_test, verbose=0)\n",
    "score_10 = model_10.evaluate(x_test, y_test, verbose=0)"
   ]
  },
  {
   "cell_type": "markdown",
   "id": "d0d2cded",
   "metadata": {
    "id": "OlVnjmL8vQ76"
   },
   "source": [
    "### **Results table**\n",
    "Print out evaluation results"
   ]
  },
  {
   "cell_type": "code",
   "execution_count": 73,
   "id": "a65dd1aa",
   "metadata": {
    "id": "977bc2df-e5d3-4eb0-9ba6-ad0907aa4b17",
    "outputId": "b9bf0ff7-9097-475c-9a54-b442897ce021"
   },
   "outputs": [
    {
     "name": "stdout",
     "output_type": "stream",
     "text": [
      "Model     Architecture                           Description                                                Number of parameters    Training time (s)    Accuracy\n",
      "--------  -------------------------------------  -------------------------------------------------------  ----------------------  -------------------  ----------\n",
      "Model 1   [(32,2),(16,2), (0.3,0.3)]             Half number of filters in each layers                                    205754              80.2332      0.8964\n",
      "Model 2   [(64,2),(128,2), (0.3,0.3)]            Double number of filters in each layers                                 1641674             141.69        0.916\n",
      "Model 3   [(64,4),(32,4), (0.3,0.3)]             Bigger kernel size                                                        44906              85.6177      0.8725\n",
      "Model 4   [(64,3),(32,6), (0.3,0.3)]             Bigger & different kernel sizes                                          150954             130.736       0.9051\n",
      "Model 5   [(64,2),(32,2), (0.2,0.2)]             Smaller dropout probability                                              142442             102.854       0.8971\n",
      "Model 6   [(64,2),(32,2), (0.4,0.4)]             Bigger dropout probability                                               412778             102.94        0.9031\n",
      "Model 7   [(64,2),(32,2), (16,2),(0.3,0.3,0.2)]  Add one more layer                                                        50298             112.289       0.8846\n",
      "Model 8   [(32,2),(16,2),(16,2), (0.3,0.3,0.3)]  Half number of filters and one addition layer                             42954              87.5875      0.8566\n",
      "Model 9   [(128,2),(64,2), (0.2,0.2)]            Double number of filters and reduced dropout percentage                  839114             163.023       0.9131\n",
      "Model 10  [(32,4),(16,4), (0.3,0.3)]             Half number of filters and double the size of kernels                    212282              76.4273      0.9079\n"
     ]
    }
   ],
   "source": [
    "data = [[\"Model 1\",\"[(32,2),(16,2), (0.3,0.3)]\", \"Half number of filters in each layers\", model_01.count_params(), time_01, score_01[1]], \n",
    "        [\"Model 2\",\"[(64,2),(128,2), (0.3,0.3)]\", \"Double number of filters in each layers\", model_02.count_params(), time_02, score_02[1]], \n",
    "        [\"Model 3\",\"[(64,4),(32,4), (0.3,0.3)]\", \"Bigger kernel size\", model_03.count_params(), time_03, score_03[1]], \n",
    "        [\"Model 4\",\"[(64,3),(32,6), (0.3,0.3)]\", \"Bigger & different kernel sizes\", model_04.count_params(), time_04, score_04[1]],\n",
    "        [\"Model 5\",\"[(64,2),(32,2), (0.2,0.2)]\", \"Smaller dropout probability\", model_05.count_params(), time_05, score_05[1]],\n",
    "        [\"Model 6\",\"[(64,2),(32,2), (0.4,0.4)]\", \"Bigger dropout probability\", model_06.count_params(), time_06, score_06[1]],\n",
    "        [\"Model 7\",\"[(64,2),(32,2), (16,2), (0.3,0.3,0.2)]\", \"Add one more layer\", model_07.count_params(), time_07, score_07[1]],\n",
    "        [\"Model 8\",\"[(32,2),(16,2), (16,2), (0.3,0.3,0.3)]\", \" Half number of filters and one addition layer\", model_08.count_params(), time_08, score_08[1]],\n",
    "        [\"Model 9\",\"[(128,2),(64,2), (0.2,0.2)]\", \" Double number of filters and reduced dropout percentage\", model_09.count_params(), time_09, score_09[1]],\n",
    "        [\"Model 10\",\"[(32,4),(16,4), (0.3,0.3)]\", \" Half number of filters and double the size of kernels\", model_10.count_params(), time_10, score_10[1]]]\n",
    "col_names = [\"Model\", \"Architecture\", \"Description\", \"Number of parameters\", \"Training time (s)\", \"Accuracy\"]\n",
    "print(tabulate(data, headers=col_names))"
   ]
  },
  {
   "cell_type": "markdown",
   "id": "247c2a0e",
   "metadata": {
    "id": "yaOg60RgkaTP"
   },
   "source": [
    "### **Comments**"
   ]
  },
  {
   "cell_type": "markdown",
   "id": "2396e136",
   "metadata": {
    "id": "CGFeEP6DneKb"
   },
   "source": [
    "Original model:\\\n",
    "Number of parameters: 412,778 \\\n",
    "Accuracy: 0.9103999733924866 \\\n",
    "The table below compares the accuracies between the modified models and the original model. \n",
    "\n",
    "|Accuracy|Higher|Similar|Lower|\n",
    "| --- | --- | --- | --- |\n",
    "|Model|2 and 9|4 and 10|1,3,5,6,7 and 8|\n",
    "\n",
    "Comments:\n",
    "\n",
    "- Model 1 has fewer number of filters, which leads to the number of features it can pick up reduced. Therefore it learns slower, and possibly perform poorer. However, due to the number of parameters also halved, it took it less time to train.\n",
    "- Model 2 has double number of filters. This helps it able to learn more features and therefore higher accuracy. Also, larger number of parameters took more time to train.\n",
    "- Model 3 have bigger pool_size which leads to smaller output after maxPooling, resulting in poorer accuracy.\n",
    "- Model 7 and 8 has more number of layers but did not improve in performance. This may due to overfitting or the loss of important spatial information due to the addtional layer."
   ]
  },
  {
   "cell_type": "code",
   "execution_count": null,
   "id": "7e136258",
   "metadata": {},
   "outputs": [],
   "source": []
  }
 ],
 "metadata": {
  "colab": {
   "provenance": []
  },
  "kernelspec": {
   "display_name": "Python 3 (Spyder)",
   "language": "python3",
   "name": "python3"
  },
  "language_info": {
   "codemirror_mode": {
    "name": "ipython",
    "version": 3
   },
   "file_extension": ".py",
   "mimetype": "text/x-python",
   "name": "python",
   "nbconvert_exporter": "python",
   "pygments_lexer": "ipython3",
   "version": "3.10.9"
  }
 },
 "nbformat": 4,
 "nbformat_minor": 5
}
